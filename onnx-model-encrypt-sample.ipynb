{
  "nbformat": 4,
  "nbformat_minor": 0,
  "metadata": {
    "colab": {
      "name": "onnx-model-encrypt-sample.ipynb",
      "provenance": [],
      "collapsed_sections": []
    },
    "kernelspec": {
      "name": "python3",
      "display_name": "Python 3"
    },
    "language_info": {
      "name": "python"
    }
  },
  "cells": [
    {
      "cell_type": "markdown",
      "source": [
        "# パッケージインストール"
      ],
      "metadata": {
        "id": "47VTEhwOk89D"
      }
    },
    {
      "cell_type": "code",
      "execution_count": 1,
      "metadata": {
        "colab": {
          "base_uri": "https://localhost:8080/"
        },
        "id": "o611vH9ZLOOo",
        "outputId": "c08806f3-8543-4658-c4d6-a205c31b13d4"
      },
      "outputs": [
        {
          "output_type": "stream",
          "name": "stdout",
          "text": [
            "Collecting onnxruntime\n",
            "  Downloading onnxruntime-1.10.0-cp37-cp37m-manylinux_2_17_x86_64.manylinux2014_x86_64.whl (4.9 MB)\n",
            "\u001b[K     |████████████████████████████████| 4.9 MB 27.9 MB/s \n",
            "\u001b[?25hRequirement already satisfied: flatbuffers in /usr/local/lib/python3.7/dist-packages (from onnxruntime) (2.0)\n",
            "Requirement already satisfied: protobuf in /usr/local/lib/python3.7/dist-packages (from onnxruntime) (3.17.3)\n",
            "Requirement already satisfied: numpy>=1.16.6 in /usr/local/lib/python3.7/dist-packages (from onnxruntime) (1.21.5)\n",
            "Requirement already satisfied: six>=1.9 in /usr/local/lib/python3.7/dist-packages (from protobuf->onnxruntime) (1.15.0)\n",
            "Installing collected packages: onnxruntime\n",
            "Successfully installed onnxruntime-1.10.0\n",
            "Collecting cryptography\n",
            "  Downloading cryptography-36.0.2-cp36-abi3-manylinux_2_24_x86_64.whl (3.6 MB)\n",
            "\u001b[K     |████████████████████████████████| 3.6 MB 21.8 MB/s \n",
            "\u001b[?25hRequirement already satisfied: cffi>=1.12 in /usr/local/lib/python3.7/dist-packages (from cryptography) (1.15.0)\n",
            "Requirement already satisfied: pycparser in /usr/local/lib/python3.7/dist-packages (from cffi>=1.12->cryptography) (2.21)\n",
            "Installing collected packages: cryptography\n",
            "Successfully installed cryptography-36.0.2\n"
          ]
        }
      ],
      "source": [
        "!pip install onnxruntime \n",
        "!pip install cryptography"
      ]
    },
    {
      "cell_type": "markdown",
      "source": [
        "# サンプルモデルダウンロード"
      ],
      "metadata": {
        "id": "M3QOatfSmLzd"
      }
    },
    {
      "cell_type": "code",
      "source": [
        "!wget https://github.com/onnx/models/blob/main/vision/classification/resnet/model/resnet50-v1-12.onnx?raw=true -O resnet50-v1-12.onnx"
      ],
      "metadata": {
        "colab": {
          "base_uri": "https://localhost:8080/"
        },
        "id": "egGL2_SrLVts",
        "outputId": "f8f55184-ba5c-4255-800a-f626ec1e55f8"
      },
      "execution_count": 2,
      "outputs": [
        {
          "output_type": "stream",
          "name": "stdout",
          "text": [
            "--2022-03-16 05:27:48--  https://github.com/onnx/models/blob/main/vision/classification/resnet/model/resnet50-v1-12.onnx?raw=true\n",
            "Resolving github.com (github.com)... 140.82.114.4\n",
            "Connecting to github.com (github.com)|140.82.114.4|:443... connected.\n",
            "HTTP request sent, awaiting response... 302 Found\n",
            "Location: https://github.com/onnx/models/raw/main/vision/classification/resnet/model/resnet50-v1-12.onnx [following]\n",
            "--2022-03-16 05:27:48--  https://github.com/onnx/models/raw/main/vision/classification/resnet/model/resnet50-v1-12.onnx\n",
            "Reusing existing connection to github.com:443.\n",
            "HTTP request sent, awaiting response... 302 Found\n",
            "Location: https://raw.githubusercontent.com/onnx/models/main/vision/classification/resnet/model/resnet50-v1-12.onnx [following]\n",
            "--2022-03-16 05:27:48--  https://raw.githubusercontent.com/onnx/models/main/vision/classification/resnet/model/resnet50-v1-12.onnx\n",
            "Resolving raw.githubusercontent.com (raw.githubusercontent.com)... 185.199.108.133, 185.199.109.133, 185.199.110.133, ...\n",
            "Connecting to raw.githubusercontent.com (raw.githubusercontent.com)|185.199.108.133|:443... connected.\n",
            "HTTP request sent, awaiting response... 200 OK\n",
            "Length: 102576417 (98M) [application/octet-stream]\n",
            "Saving to: ‘resnet50-v1-12.onnx’\n",
            "\n",
            "resnet50-v1-12.onnx 100%[===================>]  97.82M   349MB/s    in 0.3s    \n",
            "\n",
            "2022-03-16 05:27:48 (349 MB/s) - ‘resnet50-v1-12.onnx’ saved [102576417/102576417]\n",
            "\n"
          ]
        }
      ]
    },
    {
      "cell_type": "markdown",
      "source": [
        "# ONNXモデル読み込み確認"
      ],
      "metadata": {
        "id": "Wc9e2WHanNgY"
      }
    },
    {
      "cell_type": "code",
      "source": [
        "import cv2 as cv\n",
        "import onnxruntime\n",
        "\n",
        "model_path = 'resnet50-v1-12.onnx'\n",
        "\n",
        "onnx_session = onnxruntime.InferenceSession(\n",
        "    model_path,\n",
        "    providers=['CPUExecutionProvider'],\n",
        ")\n",
        "\n",
        "print(onnx_session.get_inputs()[0])\n",
        "print(onnx_session.get_outputs()[0])"
      ],
      "metadata": {
        "colab": {
          "base_uri": "https://localhost:8080/"
        },
        "id": "8kcRmFXsO04B",
        "outputId": "9773b77a-b83b-4322-acbb-0c9a0f0e8f0e"
      },
      "execution_count": 3,
      "outputs": [
        {
          "output_type": "stream",
          "name": "stdout",
          "text": [
            "NodeArg(name='data', type='tensor(float)', shape=[1, 3, 224, 224])\n",
            "NodeArg(name='resnetv17_dense0_fwd', type='tensor(float)', shape=[1, 1000])\n"
          ]
        }
      ]
    },
    {
      "cell_type": "markdown",
      "source": [
        "# キー生成方式での暗号化・複合化"
      ],
      "metadata": {
        "id": "PAw_s4esn5HZ"
      }
    },
    {
      "cell_type": "code",
      "source": [
        "from cryptography.fernet import Fernet\n",
        "from cryptography.fernet import InvalidToken\n",
        "\n",
        "# キー生成\n",
        "key = Fernet.generate_key()\n",
        "\n",
        "# キー保存\n",
        "with open('./key.txt', 'wb') as f:\n",
        "    f.write(key)\n",
        "print(key)"
      ],
      "metadata": {
        "colab": {
          "base_uri": "https://localhost:8080/"
        },
        "id": "4p_D0bkVO8aI",
        "outputId": "94000597-7566-42ec-b84a-7c814bd386cd"
      },
      "execution_count": 4,
      "outputs": [
        {
          "output_type": "stream",
          "name": "stdout",
          "text": [
            "b'PZz9_vQzHQtJvfTFv_F5iTIiWs7oZwSPs8A6rtapC0s='\n"
          ]
        }
      ]
    },
    {
      "cell_type": "code",
      "source": [
        "# ONNXモデルをバイナリモードでロード\n",
        "onnx_data = None\n",
        "with open('resnet50-v1-12.onnx', 'rb') as onnx_file:\n",
        "    onnx_data = onnx_file.read()\n",
        "\n",
        "# Fernetオブジェクトを指定キーで生成\n",
        "fernet = Fernet(key)\n",
        "\n",
        "# 暗号化\n",
        "encrypt_data = fernet.encrypt(onnx_data)\n",
        "\n",
        "# 暗号化したデータをファイルに書き込む\n",
        "with open('resnet50-v1-12.dat', 'wb') as f:\n",
        "    f.write(encrypt_data)"
      ],
      "metadata": {
        "id": "8OGD1NjlQOqB"
      },
      "execution_count": 5,
      "outputs": []
    },
    {
      "cell_type": "code",
      "source": [
        "# キーの読み込み\n",
        "with open('key.txt', 'rb') as f:\n",
        "    key = f.read()\n",
        "print(key)\n",
        "\n",
        "# 暗号化したデータの読み込み\n",
        "with open('resnet50-v1-12.dat', 'rb') as f:\n",
        "    encryp_data = f.read()\n",
        "\n",
        "# Fernetオブジェクトを指定キーで生成\n",
        "fernet = Fernet(key)\n",
        "\n",
        "# 復号化\n",
        "try:\n",
        "    decrypt_data = fernet.decrypt(encryp_data)\n",
        "except InvalidToken:\n",
        "    print('InvalidToken')"
      ],
      "metadata": {
        "colab": {
          "base_uri": "https://localhost:8080/"
        },
        "id": "AwJ7j3pyQ9q2",
        "outputId": "b9434571-e107-4549-cb7d-f38feea0b67d"
      },
      "execution_count": 6,
      "outputs": [
        {
          "output_type": "stream",
          "name": "stdout",
          "text": [
            "b'PZz9_vQzHQtJvfTFv_F5iTIiWs7oZwSPs8A6rtapC0s='\n"
          ]
        }
      ]
    },
    {
      "cell_type": "code",
      "source": [
        "# モデルロード\n",
        "import cv2 as cv\n",
        "import onnxruntime\n",
        "\n",
        "# 複合化したONNXモデルのロード\n",
        "onnx_session = onnxruntime.InferenceSession(\n",
        "    decrypt_data,\n",
        "    providers=['CPUExecutionProvider'],\n",
        ")\n",
        "\n",
        "print(onnx_session.get_inputs()[0])\n",
        "print(onnx_session.get_outputs()[0])"
      ],
      "metadata": {
        "colab": {
          "base_uri": "https://localhost:8080/"
        },
        "id": "kdChkRgrSJbP",
        "outputId": "a748f44d-47f6-4ad5-8043-ea2528551706"
      },
      "execution_count": 7,
      "outputs": [
        {
          "output_type": "stream",
          "name": "stdout",
          "text": [
            "NodeArg(name='data', type='tensor(float)', shape=[1, 3, 224, 224])\n",
            "NodeArg(name='resnetv17_dense0_fwd', type='tensor(float)', shape=[1, 1000])\n"
          ]
        }
      ]
    },
    {
      "cell_type": "markdown",
      "source": [
        "# パスワード指定方式での暗号化・複合化"
      ],
      "metadata": {
        "id": "sYw1k7uSa3sg"
      }
    },
    {
      "cell_type": "code",
      "source": [
        "import base64\n",
        "from cryptography.fernet import Fernet\n",
        "from cryptography.fernet import InvalidToken\n",
        "from cryptography.hazmat.primitives import hashes\n",
        "from cryptography.hazmat.primitives.kdf.pbkdf2 import PBKDF2HMAC\n",
        "\n",
        "# ONNXモデルをバイナリモードでロード\n",
        "with open('resnet50-v1-12.onnx', 'rb') as onnx_file:\n",
        "    onnx_data = onnx_file.read()\n",
        "\n",
        "# パスワード\n",
        "password_text = 'P@ssw0rd'\n",
        "\n",
        "# ソルト付与・ストレッチング実施用インスタンス生成\n",
        "# ソルトはユーザー毎にランダム値を生成すべきだが、サンプルではひとまず固定値を使用\n",
        "salt = b'salt'  \n",
        "stretching_iterations = 390000\n",
        "kdf = PBKDF2HMAC(\n",
        "    algorithm=hashes.SHA256(),\n",
        "    length=32,\n",
        "    salt=salt,\n",
        "    iterations=stretching_iterations,\n",
        ")\n",
        "\n",
        "# キー生成\n",
        "password = password_text.encode(\"utf-8\")\n",
        "key = base64.urlsafe_b64encode(kdf.derive(password))\n",
        "\n",
        "# Fernetオブジェクトを指定キーで生成\n",
        "fernet = Fernet(key)\n",
        "\n",
        "# 暗号化\n",
        "encrypt_data = fernet.encrypt(onnx_data)\n",
        "\n",
        "# 暗号化したデータをファイルに書き込む\n",
        "with open('resnet50-v1-12-password.dat', 'wb') as f:\n",
        "    f.write(encrypt_data)"
      ],
      "metadata": {
        "id": "VYghREPxdYw1"
      },
      "execution_count": 8,
      "outputs": []
    },
    {
      "cell_type": "code",
      "source": [
        "# 暗号化したデータの読み込み\n",
        "with open('resnet50-v1-12-password.dat', 'rb') as f:\n",
        "    encryp_data = f.read()\n",
        "\n",
        "# パスワード\n",
        "password_text = 'P@ssw0rd'\n",
        "\n",
        "# ソルト付与・ストレッチング実施用インスタンス生成\n",
        "# ソルトはユーザー毎にランダム値を生成すべきだが、サンプルではひとまず固定値を使用\n",
        "salt = b'salt'  \n",
        "stretching_iterations = 390000\n",
        "kdf = PBKDF2HMAC(\n",
        "    algorithm=hashes.SHA256(),\n",
        "    length=32,\n",
        "    salt=salt,\n",
        "    iterations=stretching_iterations,\n",
        ")\n",
        "\n",
        "# キー生成\n",
        "password = password_text.encode(\"utf-8\")\n",
        "key = base64.urlsafe_b64encode(kdf.derive(password))\n",
        "\n",
        "# Fernetオブジェクトを指定キーで生成\n",
        "fernet = Fernet(key)\n",
        "\n",
        "# 復号化\n",
        "try:\n",
        "    decrypt_data = fernet.decrypt(encryp_data)\n",
        "except InvalidToken:\n",
        "    print('InvalidToken')"
      ],
      "metadata": {
        "id": "lOMc_KvReWgi"
      },
      "execution_count": 9,
      "outputs": []
    },
    {
      "cell_type": "code",
      "source": [
        "# モデルロード\n",
        "import cv2 as cv\n",
        "import onnxruntime\n",
        "\n",
        "# ONNXランタイム\n",
        "onnx_session = onnxruntime.InferenceSession(\n",
        "    decrypt_data,\n",
        "    providers=['CPUExecutionProvider'],\n",
        ")\n",
        "\n",
        "print(onnx_session.get_inputs()[0])\n",
        "print(onnx_session.get_outputs()[0])"
      ],
      "metadata": {
        "colab": {
          "base_uri": "https://localhost:8080/"
        },
        "id": "6VVvGUaXebkM",
        "outputId": "004c1b66-3843-4bee-f9bd-13610df76e0a"
      },
      "execution_count": 10,
      "outputs": [
        {
          "output_type": "stream",
          "name": "stdout",
          "text": [
            "NodeArg(name='data', type='tensor(float)', shape=[1, 3, 224, 224])\n",
            "NodeArg(name='resnetv17_dense0_fwd', type='tensor(float)', shape=[1, 1000])\n"
          ]
        }
      ]
    }
  ]
}