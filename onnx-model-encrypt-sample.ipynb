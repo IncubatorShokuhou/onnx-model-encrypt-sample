{
  "cells": [
    {
      "cell_type": "markdown",
      "metadata": {
        "id": "47VTEhwOk89D"
      },
      "source": [
        "# 安装包"
      ]
    },
    {
      "cell_type": "code",
      "execution_count": 1,
      "metadata": {
        "colab": {
          "base_uri": "https://localhost:8080/"
        },
        "id": "o611vH9ZLOOo",
        "outputId": "c08806f3-8543-4658-c4d6-a205c31b13d4"
      },
      "outputs": [
        {
          "name": "stdout",
          "output_type": "stream",
          "text": [
            "Collecting onnxruntime\n",
            "  Downloading onnxruntime-1.10.0-cp37-cp37m-manylinux_2_17_x86_64.manylinux2014_x86_64.whl (4.9 MB)\n",
            "\u001b[K     |████████████████████████████████| 4.9 MB 27.9 MB/s \n",
            "\u001b[?25hRequirement already satisfied: flatbuffers in /usr/local/lib/python3.7/dist-packages (from onnxruntime) (2.0)\n",
            "Requirement already satisfied: protobuf in /usr/local/lib/python3.7/dist-packages (from onnxruntime) (3.17.3)\n",
            "Requirement already satisfied: numpy>=1.16.6 in /usr/local/lib/python3.7/dist-packages (from onnxruntime) (1.21.5)\n",
            "Requirement already satisfied: six>=1.9 in /usr/local/lib/python3.7/dist-packages (from protobuf->onnxruntime) (1.15.0)\n",
            "Installing collected packages: onnxruntime\n",
            "Successfully installed onnxruntime-1.10.0\n",
            "Collecting cryptography\n",
            "  Downloading cryptography-36.0.2-cp36-abi3-manylinux_2_24_x86_64.whl (3.6 MB)\n",
            "\u001b[K     |████████████████████████████████| 3.6 MB 21.8 MB/s \n",
            "\u001b[?25hRequirement already satisfied: cffi>=1.12 in /usr/local/lib/python3.7/dist-packages (from cryptography) (1.15.0)\n",
            "Requirement already satisfied: pycparser in /usr/local/lib/python3.7/dist-packages (from cffi>=1.12->cryptography) (2.21)\n",
            "Installing collected packages: cryptography\n",
            "Successfully installed cryptography-36.0.2\n"
          ]
        }
      ],
      "source": [
        "!pip install onnxruntime \n",
        "!pip install cryptography"
      ]
    },
    {
      "cell_type": "markdown",
      "metadata": {
        "id": "M3QOatfSmLzd"
      },
      "source": [
        "# 样例模型下载"
      ]
    },
    {
      "cell_type": "code",
      "execution_count": 2,
      "metadata": {
        "colab": {
          "base_uri": "https://localhost:8080/"
        },
        "id": "egGL2_SrLVts",
        "outputId": "f8f55184-ba5c-4255-800a-f626ec1e55f8"
      },
      "outputs": [
        {
          "name": "stdout",
          "output_type": "stream",
          "text": [
            "--2022-03-16 05:27:48--  https://github.com/onnx/models/blob/main/vision/classification/resnet/model/resnet50-v1-12.onnx?raw=true\n",
            "Resolving github.com (github.com)... 140.82.114.4\n",
            "Connecting to github.com (github.com)|140.82.114.4|:443... connected.\n",
            "HTTP request sent, awaiting response... 302 Found\n",
            "Location: https://github.com/onnx/models/raw/main/vision/classification/resnet/model/resnet50-v1-12.onnx [following]\n",
            "--2022-03-16 05:27:48--  https://github.com/onnx/models/raw/main/vision/classification/resnet/model/resnet50-v1-12.onnx\n",
            "Reusing existing connection to github.com:443.\n",
            "HTTP request sent, awaiting response... 302 Found\n",
            "Location: https://raw.githubusercontent.com/onnx/models/main/vision/classification/resnet/model/resnet50-v1-12.onnx [following]\n",
            "--2022-03-16 05:27:48--  https://raw.githubusercontent.com/onnx/models/main/vision/classification/resnet/model/resnet50-v1-12.onnx\n",
            "Resolving raw.githubusercontent.com (raw.githubusercontent.com)... 185.199.108.133, 185.199.109.133, 185.199.110.133, ...\n",
            "Connecting to raw.githubusercontent.com (raw.githubusercontent.com)|185.199.108.133|:443... connected.\n",
            "HTTP request sent, awaiting response... 200 OK\n",
            "Length: 102576417 (98M) [application/octet-stream]\n",
            "Saving to: ‘resnet50-v1-12.onnx’\n",
            "\n",
            "resnet50-v1-12.onnx 100%[===================>]  97.82M   349MB/s    in 0.3s    \n",
            "\n",
            "2022-03-16 05:27:48 (349 MB/s) - ‘resnet50-v1-12.onnx’ saved [102576417/102576417]\n",
            "\n"
          ]
        }
      ],
      "source": [
        "!wget https://github.com/onnx/models/blob/main/vision/classification/resnet/model/resnet50-v1-12.onnx?raw=true -O resnet50-v1-12.onnx"
      ]
    },
    {
      "cell_type": "markdown",
      "metadata": {
        "id": "Wc9e2WHanNgY"
      },
      "source": [
        "# 确认读取ONNX模型"
      ]
    },
    {
      "cell_type": "code",
      "execution_count": 3,
      "metadata": {
        "colab": {
          "base_uri": "https://localhost:8080/"
        },
        "id": "8kcRmFXsO04B",
        "outputId": "9773b77a-b83b-4322-acbb-0c9a0f0e8f0e"
      },
      "outputs": [
        {
          "name": "stdout",
          "output_type": "stream",
          "text": [
            "NodeArg(name='data', type='tensor(float)', shape=[1, 3, 224, 224])\n",
            "NodeArg(name='resnetv17_dense0_fwd', type='tensor(float)', shape=[1, 1000])\n"
          ]
        }
      ],
      "source": [
        "import cv2 as cv\n",
        "import onnxruntime\n",
        "\n",
        "model_path = 'resnet50-v1-12.onnx'\n",
        "\n",
        "onnx_session = onnxruntime.InferenceSession(\n",
        "    model_path,\n",
        "    providers=['CPUExecutionProvider'],\n",
        ")\n",
        "\n",
        "print(onnx_session.get_inputs()[0])\n",
        "print(onnx_session.get_outputs()[0])"
      ]
    },
    {
      "cell_type": "markdown",
      "metadata": {
        "id": "PAw_s4esn5HZ"
      },
      "source": [
        "# 通过密钥生成方式加密/解密"
      ]
    },
    {
      "cell_type": "code",
      "execution_count": 4,
      "metadata": {
        "colab": {
          "base_uri": "https://localhost:8080/"
        },
        "id": "4p_D0bkVO8aI",
        "outputId": "94000597-7566-42ec-b84a-7c814bd386cd"
      },
      "outputs": [
        {
          "name": "stdout",
          "output_type": "stream",
          "text": [
            "b'PZz9_vQzHQtJvfTFv_F5iTIiWs7oZwSPs8A6rtapC0s='\n"
          ]
        }
      ],
      "source": [
        "from cryptography.fernet import Fernet\n",
        "from cryptography.fernet import InvalidToken\n",
        "\n",
        "# 密钥生成\n",
        "key = Fernet.generate_key()\n",
        "\n",
        "# 密钥保存\n",
        "with open('./key.txt', 'wb') as f:\n",
        "    f.write(key)\n",
        "print(key)"
      ]
    },
    {
      "cell_type": "code",
      "execution_count": 5,
      "metadata": {
        "id": "8OGD1NjlQOqB"
      },
      "outputs": [],
      "source": [
        "# 以二进制模式加载ONNX模型\n",
        "onnx_data = None\n",
        "with open('resnet50-v1-12.onnx', 'rb') as onnx_file:\n",
        "    onnx_data = onnx_file.read()\n",
        "\n",
        "# 生成具有指定键的Fernet对象\n",
        "fernet = Fernet(key)\n",
        "\n",
        "# 加密\n",
        "encrypt_data = fernet.encrypt(onnx_data)\n",
        "\n",
        "# 将加密数据写入文件\n",
        "with open('resnet50-v1-12.dat', 'wb') as f:\n",
        "    f.write(encrypt_data)"
      ]
    },
    {
      "cell_type": "code",
      "execution_count": 6,
      "metadata": {
        "colab": {
          "base_uri": "https://localhost:8080/"
        },
        "id": "AwJ7j3pyQ9q2",
        "outputId": "b9434571-e107-4549-cb7d-f38feea0b67d"
      },
      "outputs": [
        {
          "name": "stdout",
          "output_type": "stream",
          "text": [
            "b'PZz9_vQzHQtJvfTFv_F5iTIiWs7oZwSPs8A6rtapC0s='\n"
          ]
        }
      ],
      "source": [
        "# 读取密钥\n",
        "with open('key.txt', 'rb') as f:\n",
        "    key = f.read()\n",
        "print(key)\n",
        "\n",
        "# 读取加密数据\n",
        "with open('resnet50-v1-12.dat', 'rb') as f:\n",
        "    encryp_data = f.read()\n",
        "\n",
        "# 生成具有指定密钥的Fernet对象\n",
        "fernet = Fernet(key)\n",
        "\n",
        "# 解密\n",
        "try:\n",
        "    decrypt_data = fernet.decrypt(encryp_data)\n",
        "except InvalidToken:\n",
        "    print('InvalidToken')"
      ]
    },
    {
      "cell_type": "code",
      "execution_count": 7,
      "metadata": {
        "colab": {
          "base_uri": "https://localhost:8080/"
        },
        "id": "kdChkRgrSJbP",
        "outputId": "a748f44d-47f6-4ad5-8043-ea2528551706"
      },
      "outputs": [
        {
          "name": "stdout",
          "output_type": "stream",
          "text": [
            "NodeArg(name='data', type='tensor(float)', shape=[1, 3, 224, 224])\n",
            "NodeArg(name='resnetv17_dense0_fwd', type='tensor(float)', shape=[1, 1000])\n"
          ]
        }
      ],
      "source": [
        "# 加载模型\n",
        "import cv2 as cv\n",
        "import onnxruntime\n",
        "\n",
        "# 加载解密后的ONNX模型\n",
        "onnx_session = onnxruntime.InferenceSession(\n",
        "    decrypt_data,\n",
        "    providers=['CPUExecutionProvider'],\n",
        ")\n",
        "\n",
        "print(onnx_session.get_inputs()[0])\n",
        "print(onnx_session.get_outputs()[0])"
      ]
    },
    {
      "cell_type": "markdown",
      "metadata": {
        "id": "sYw1k7uSa3sg"
      },
      "source": [
        "# 通过指定密码进行加密/解密"
      ]
    },
    {
      "cell_type": "code",
      "execution_count": 8,
      "metadata": {
        "id": "VYghREPxdYw1"
      },
      "outputs": [],
      "source": [
        "import base64\n",
        "from cryptography.fernet import Fernet\n",
        "from cryptography.fernet import InvalidToken\n",
        "from cryptography.hazmat.primitives import hashes\n",
        "from cryptography.hazmat.primitives.kdf.pbkdf2 import PBKDF2HMAC\n",
        "\n",
        "# 以二进制模式加载 ONNX 模型\n",
        "with open('resnet50-v1-12.onnx', 'rb') as onnx_file:\n",
        "    onnx_data = onnx_file.read()\n",
        "\n",
        "# 密码\n",
        "password_text = 'P@ssw0rd'\n",
        "\n",
        "# 使用Salt实例化\n",
        "# Salt应该为每个用户生成一个随机值，但是在示例中我们暂时使用一个固定值\n",
        "salt = b'salt'  \n",
        "stretching_iterations = 390000\n",
        "kdf = PBKDF2HMAC(\n",
        "    algorithm=hashes.SHA256(),\n",
        "    length=32,\n",
        "    salt=salt,\n",
        "    iterations=stretching_iterations,\n",
        ")\n",
        "\n",
        "# 密钥生成\n",
        "password = password_text.encode(\"utf-8\")\n",
        "key = base64.urlsafe_b64encode(kdf.derive(password))\n",
        "\n",
        "# 生成具有指定密钥的 Fernet 对象\n",
        "fernet = Fernet(key)\n",
        "\n",
        "# 加密\n",
        "encrypt_data = fernet.encrypt(onnx_data)\n",
        "\n",
        "# 将加密数据写入文件\n",
        "with open('resnet50-v1-12-password.dat', 'wb') as f:\n",
        "    f.write(encrypt_data)"
      ]
    },
    {
      "cell_type": "code",
      "execution_count": 9,
      "metadata": {
        "id": "lOMc_KvReWgi"
      },
      "outputs": [],
      "source": [
        "# 读取加密数据\n",
        "with open('resnet50-v1-12-password.dat', 'rb') as f:\n",
        "    encryp_data = f.read()\n",
        "\n",
        "# 密码\n",
        "password_text = 'P@ssw0rd'\n",
        "\n",
        "# 使用Salt实例化\n",
        "# Salt应该为每个用户生成一个随机值，但是在示例中我们暂时使用一个固定值\n",
        "salt = b'salt'  \n",
        "stretching_iterations = 390000\n",
        "kdf = PBKDF2HMAC(\n",
        "    algorithm=hashes.SHA256(),\n",
        "    length=32,\n",
        "    salt=salt,\n",
        "    iterations=stretching_iterations,\n",
        ")\n",
        "\n",
        "# 生成密钥\n",
        "password = password_text.encode(\"utf-8\")\n",
        "key = base64.urlsafe_b64encode(kdf.derive(password))\n",
        "\n",
        "# 生成具有指定密钥的 Fernet 对象\n",
        "fernet = Fernet(key)\n",
        "\n",
        "# 解密\n",
        "try:\n",
        "    decrypt_data = fernet.decrypt(encryp_data)\n",
        "except InvalidToken:\n",
        "    print('InvalidToken')"
      ]
    },
    {
      "cell_type": "code",
      "execution_count": 10,
      "metadata": {
        "colab": {
          "base_uri": "https://localhost:8080/"
        },
        "id": "6VVvGUaXebkM",
        "outputId": "004c1b66-3843-4bee-f9bd-13610df76e0a"
      },
      "outputs": [
        {
          "name": "stdout",
          "output_type": "stream",
          "text": [
            "NodeArg(name='data', type='tensor(float)', shape=[1, 3, 224, 224])\n",
            "NodeArg(name='resnetv17_dense0_fwd', type='tensor(float)', shape=[1, 1000])\n"
          ]
        }
      ],
      "source": [
        "# 加载模型\n",
        "import cv2 as cv\n",
        "import onnxruntime\n",
        "\n",
        "# 加载解密后的onnx模型\n",
        "onnx_session = onnxruntime.InferenceSession(\n",
        "    decrypt_data,\n",
        "    providers=['CPUExecutionProvider'],\n",
        ")\n",
        "\n",
        "print(onnx_session.get_inputs()[0])\n",
        "print(onnx_session.get_outputs()[0])"
      ]
    }
  ],
  "metadata": {
    "colab": {
      "collapsed_sections": [],
      "name": "onnx-model-encrypt-sample.ipynb",
      "provenance": []
    },
    "kernelspec": {
      "display_name": "Python 3",
      "name": "python3"
    },
    "language_info": {
      "name": "python"
    }
  },
  "nbformat": 4,
  "nbformat_minor": 0
}
